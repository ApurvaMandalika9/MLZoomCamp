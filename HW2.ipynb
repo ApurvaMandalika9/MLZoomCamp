{
  "nbformat": 4,
  "nbformat_minor": 0,
  "metadata": {
    "colab": {
      "provenance": []
    },
    "kernelspec": {
      "name": "python3",
      "display_name": "Python 3"
    },
    "language_info": {
      "name": "python"
    }
  },
  "cells": [
    {
      "cell_type": "code",
      "source": [
        "!wget https://raw.githubusercontent.com/alexeygrigorev/datasets/master/car_fuel_efficiency.csv"
      ],
      "metadata": {
        "colab": {
          "base_uri": "https://localhost:8080/"
        },
        "id": "7YUgBZwk5x9k",
        "outputId": "69f22e1e-215b-4a35-b6c7-f1d062950082"
      },
      "execution_count": 1,
      "outputs": [
        {
          "output_type": "stream",
          "name": "stdout",
          "text": [
            "--2025-10-07 18:20:27--  https://raw.githubusercontent.com/alexeygrigorev/datasets/master/car_fuel_efficiency.csv\n",
            "Resolving raw.githubusercontent.com (raw.githubusercontent.com)... 185.199.108.133, 185.199.109.133, 185.199.110.133, ...\n",
            "Connecting to raw.githubusercontent.com (raw.githubusercontent.com)|185.199.108.133|:443... connected.\n",
            "HTTP request sent, awaiting response... 200 OK\n",
            "Length: 874188 (854K) [text/plain]\n",
            "Saving to: ‘car_fuel_efficiency.csv’\n",
            "\n",
            "car_fuel_efficiency 100%[===================>] 853.70K  --.-KB/s    in 0.07s   \n",
            "\n",
            "2025-10-07 18:20:27 (11.6 MB/s) - ‘car_fuel_efficiency.csv’ saved [874188/874188]\n",
            "\n"
          ]
        }
      ]
    },
    {
      "cell_type": "code",
      "execution_count": 5,
      "metadata": {
        "id": "Q5JhqMFs5kKj"
      },
      "outputs": [],
      "source": [
        "import pandas as pd\n",
        "df = pd.read_csv(\"car_fuel_efficiency.csv\")[['engine_displacement','horsepower','vehicle_weight','model_year','fuel_efficiency_mpg']]"
      ]
    },
    {
      "cell_type": "code",
      "source": [
        "# Q1\n",
        "df.isnull().sum()"
      ],
      "metadata": {
        "colab": {
          "base_uri": "https://localhost:8080/",
          "height": 241
        },
        "id": "603bCt6b9iiX",
        "outputId": "025b891d-5b53-4bd8-a147-7db975b90eed"
      },
      "execution_count": 7,
      "outputs": [
        {
          "output_type": "execute_result",
          "data": {
            "text/plain": [
              "engine_displacement      0\n",
              "horsepower             708\n",
              "vehicle_weight           0\n",
              "model_year               0\n",
              "fuel_efficiency_mpg      0\n",
              "dtype: int64"
            ],
            "text/html": [
              "<div>\n",
              "<style scoped>\n",
              "    .dataframe tbody tr th:only-of-type {\n",
              "        vertical-align: middle;\n",
              "    }\n",
              "\n",
              "    .dataframe tbody tr th {\n",
              "        vertical-align: top;\n",
              "    }\n",
              "\n",
              "    .dataframe thead th {\n",
              "        text-align: right;\n",
              "    }\n",
              "</style>\n",
              "<table border=\"1\" class=\"dataframe\">\n",
              "  <thead>\n",
              "    <tr style=\"text-align: right;\">\n",
              "      <th></th>\n",
              "      <th>0</th>\n",
              "    </tr>\n",
              "  </thead>\n",
              "  <tbody>\n",
              "    <tr>\n",
              "      <th>engine_displacement</th>\n",
              "      <td>0</td>\n",
              "    </tr>\n",
              "    <tr>\n",
              "      <th>horsepower</th>\n",
              "      <td>708</td>\n",
              "    </tr>\n",
              "    <tr>\n",
              "      <th>vehicle_weight</th>\n",
              "      <td>0</td>\n",
              "    </tr>\n",
              "    <tr>\n",
              "      <th>model_year</th>\n",
              "      <td>0</td>\n",
              "    </tr>\n",
              "    <tr>\n",
              "      <th>fuel_efficiency_mpg</th>\n",
              "      <td>0</td>\n",
              "    </tr>\n",
              "  </tbody>\n",
              "</table>\n",
              "</div><br><label><b>dtype:</b> int64</label>"
            ]
          },
          "metadata": {},
          "execution_count": 7
        }
      ]
    },
    {
      "cell_type": "code",
      "source": [
        "#Q2\n",
        "df['horsepower'].median()"
      ],
      "metadata": {
        "colab": {
          "base_uri": "https://localhost:8080/"
        },
        "id": "K15ikSW89mFX",
        "outputId": "290088e2-59cb-422f-d1a2-5d8755e77b2f"
      },
      "execution_count": 9,
      "outputs": [
        {
          "output_type": "execute_result",
          "data": {
            "text/plain": [
              "149.0"
            ]
          },
          "metadata": {},
          "execution_count": 9
        }
      ]
    },
    {
      "cell_type": "code",
      "source": [
        "import numpy as np\n",
        "from sklearn.utils import shuffle\n",
        "from sklearn.linear_model import LinearRegression, Ridge\n",
        "from sklearn.metrics import mean_squared_error\n",
        "\n",
        "\n",
        "def split_60_20_20(df, seed):\n",
        "    d = shuffle(df, random_state=seed).reset_index(drop=True)\n",
        "    n = len(d)\n",
        "    n_train = int(0.6 * n)\n",
        "    n_val   = int(0.2 * n)\n",
        "    df_train = d.iloc[:n_train].copy()\n",
        "    df_val   = d.iloc[n_train:n_train+n_val].copy()\n",
        "    df_test  = d.iloc[n_train+n_val:].copy()\n",
        "    return df_train, df_val, df_test\n",
        "\n",
        "def rmse(y_true, y_pred):\n",
        "    return np.sqrt(mean_squared_error(y_true, y_pred))\n",
        "\n",
        "def make_Xy(train_df, val_df, fill_strategy=\"zero\", mean_from_train=None):\n",
        "    if fill_strategy == \"zero\":\n",
        "        train_df['horsepower'] = train_df['horsepower'].fillna(0)\n",
        "        val_df['horsepower']   = val_df['horsepower'].fillna(0)\n",
        "    elif fill_strategy == \"mean\":\n",
        "        assert mean_from_train is not None\n",
        "        train_df['horsepower'] = train_df['horsepower'].fillna(mean_from_train)\n",
        "        val_df['horsepower']   = val_df['horsepower'].fillna(mean_from_train)\n",
        "\n",
        "    y_train = train_df['fuel_efficiency_mpg'].values\n",
        "    y_val   = val_df['fuel_efficiency_mpg'].values\n",
        "    X_train = train_df.drop('fuel_efficiency_mpg', axis=1).values\n",
        "    X_val   = val_df.drop('fuel_efficiency_mpg', axis=1).values\n",
        "    return X_train, y_train, X_val, y_val\n",
        "\n",
        "# Q3\n",
        "# Seed 42 split\n",
        "df_train_42, df_val_42, df_test_42 = split_60_20_20(df, seed=42)\n",
        "\n",
        "# Option A: fill horsepower with 0\n",
        "Xa, ya, Xva, yva = make_Xy(df_train_42.copy(), df_val_42.copy(), fill_strategy=\"zero\")\n",
        "lin_a = LinearRegression().fit(Xa, ya)\n",
        "rmse_zero = rmse(yva, lin_a.predict(Xva))\n",
        "rmse_zero_round = round(rmse_zero, 2)\n",
        "\n",
        "# Option B: fill horsepower with mean (from training only)\n",
        "hp_mean_train = df_train_42['horsepower'].mean()\n",
        "Xb, yb, Xvb, yvb = make_Xy(df_train_42.copy(), df_val_42.copy(),\n",
        "                           fill_strategy=\"mean\", mean_from_train=hp_mean_train)\n",
        "lin_b = LinearRegression().fit(Xb, yb)\n",
        "rmse_mean = rmse(yvb, lin_b.predict(Xvb))\n",
        "rmse_mean_round = round(rmse_mean, 2)\n",
        "\n",
        "print(\"Q3 — RMSE with 0:   \", rmse_zero_round)\n",
        "print(\"Q3 — RMSE with mean:\", rmse_mean_round)\n",
        "if rmse_zero_round < rmse_mean_round:\n",
        "    print(\"Q3 — Answer: With 0\")\n",
        "elif rmse_mean_round < rmse_zero_round:\n",
        "    print(\"Q3 — Answer: With mean\")\n",
        "else:\n",
        "    print(\"Q3 — Answer: Both are equally good\")"
      ],
      "metadata": {
        "colab": {
          "base_uri": "https://localhost:8080/"
        },
        "id": "h0M7FjkR8oQR",
        "outputId": "3cf53544-6381-45a1-b347-53ef01cebfd4"
      },
      "execution_count": 10,
      "outputs": [
        {
          "output_type": "stream",
          "name": "stdout",
          "text": [
            "Q3 — RMSE with 0:    0.52\n",
            "Q3 — RMSE with mean: 0.46\n",
            "Q3 — Answer: With mean\n"
          ]
        }
      ]
    },
    {
      "cell_type": "code",
      "source": [
        "\n",
        "# Q4\n",
        "\n",
        "# Fill NAs with 0 and try different r\n",
        "r_list = [0, 0.01, 0.1, 1, 5, 10, 100]\n",
        "\n",
        "# Prepare data\n",
        "Xq4_tr, yq4_tr, Xq4_val, yq4_val = make_Xy(df_train_42.copy(), df_val_42.copy(), fill_strategy=\"zero\")\n",
        "\n",
        "rmse_by_r = {}\n",
        "for r in r_list:\n",
        "    ridge = Ridge(alpha=r)\n",
        "    ridge.fit(Xq4_tr, yq4_tr)\n",
        "    pr = ridge.predict(Xq4_val)\n",
        "    rmse_r = rmse(yq4_val, pr)\n",
        "    rmse_by_r[r] = round(rmse_r, 2)\n",
        "\n",
        "print(\"\\nQ4 — RMSE by r:\", rmse_by_r)\n",
        "best_rmse_q4 = min(rmse_by_r.values())\n",
        "best_r_candidates = [r for r, sc in rmse_by_r.items() if sc == best_rmse_q4]\n",
        "best_r_q4 = min(best_r_candidates)  # taking smallest r\n",
        "print(\"Q4 — Answer: r =\", best_r_q4)"
      ],
      "metadata": {
        "colab": {
          "base_uri": "https://localhost:8080/"
        },
        "id": "Nxrl0V0k8oMt",
        "outputId": "aca8481a-4c48-45f5-bfca-a9bb9121fd79"
      },
      "execution_count": 11,
      "outputs": [
        {
          "output_type": "stream",
          "name": "stdout",
          "text": [
            "\n",
            "Q4 — RMSE by r: {0: np.float64(0.52), 0.01: np.float64(0.52), 0.1: np.float64(0.52), 1: np.float64(0.52), 5: np.float64(0.52), 10: np.float64(0.52), 100: np.float64(0.52)}\n",
            "Q4 — Answer: r = 0\n"
          ]
        }
      ]
    },
    {
      "cell_type": "code",
      "source": [
        "# Q5\n",
        "# Seeds 0..9, fill NAs with 0, unregularized LinearRegression, std of RMSEs\n",
        "rmse_raw_per_seed = []\n",
        "rmse_rounded_per_seed = []\n",
        "\n",
        "for seed in range(10):\n",
        "    dtr, dval, _ = split_60_20_20(df, seed=seed)\n",
        "    Xs_tr, ys_tr, Xs_val, ys_val = make_Xy(dtr.copy(), dval.copy(), fill_strategy=\"zero\")\n",
        "    lin = LinearRegression().fit(Xs_tr, ys_tr)\n",
        "    preds = lin.predict(Xs_val)\n",
        "    seed_rmse = rmse(ys_val, preds)\n",
        "    rmse_raw_per_seed.append(seed_rmse)\n",
        "    rmse_rounded_per_seed.append(round(seed_rmse, 2))\n",
        "\n",
        "std_rmse = round(np.std(rmse_raw_per_seed), 3)  # std on raw, then round to 3 decimals\n",
        "print(\"\\nQ5 — RMSE per seed (rounded):\", rmse_rounded_per_seed)\n",
        "print(\"Q5 — std of RMSE across seeds:\", std_rmse)"
      ],
      "metadata": {
        "colab": {
          "base_uri": "https://localhost:8080/"
        },
        "id": "59rXZHaT8oJU",
        "outputId": "5c963773-a540-42d7-b318-ed406718936b"
      },
      "execution_count": 12,
      "outputs": [
        {
          "output_type": "stream",
          "name": "stdout",
          "text": [
            "\n",
            "Q5 — RMSE per seed (rounded): [np.float64(0.52), np.float64(0.52), np.float64(0.52), np.float64(0.52), np.float64(0.51), np.float64(0.53), np.float64(0.53), np.float64(0.51), np.float64(0.51), np.float64(0.51)]\n",
            "Q5 — std of RMSE across seeds: 0.007\n"
          ]
        }
      ]
    },
    {
      "cell_type": "code",
      "source": [
        "# Q6\n",
        "\n",
        "# Seed 9, combine train+val, fill NAs with 0, train Ridge with r=0.001, report test RMSE\n",
        "dtr9, dval9, dte9 = split_60_20_20(df, seed=9)\n",
        "\n",
        "# combine train + val\n",
        "dtrainval9 = pd.concat([dtr9, dval9], axis=0).reset_index(drop=True)\n",
        "\n",
        "# prepare train+val and test with zeros\n",
        "dtrainval9['horsepower'] = dtrainval9['horsepower'].fillna(0)\n",
        "dte9['horsepower']       = dte9['horsepower'].fillna(0)\n",
        "\n",
        "y_trval = dtrainval9['fuel_efficiency_mpg'].values\n",
        "y_test9 = dte9['fuel_efficiency_mpg'].values\n",
        "X_trval = dtrainval9.drop('fuel_efficiency_mpg', axis=1).values\n",
        "X_test9 = dte9.drop('fuel_efficiency_mpg', axis=1).values\n",
        "\n",
        "ridge_001 = Ridge(alpha=0.001).fit(X_trval, y_trval)\n",
        "test_rmse_q6 = rmse(y_test9, ridge_001.predict(X_test9))\n",
        "print(\"\\nQ6 — Test RMSE (r=0.001, seed=9):\", round(test_rmse_q6, 3))\n"
      ],
      "metadata": {
        "colab": {
          "base_uri": "https://localhost:8080/"
        },
        "id": "ruKl3wty8n7t",
        "outputId": "ef213819-b55c-44ad-a100-0269ad9f8d71"
      },
      "execution_count": 13,
      "outputs": [
        {
          "output_type": "stream",
          "name": "stdout",
          "text": [
            "\n",
            "Q6 — Test RMSE (r=0.001, seed=9): 0.515\n"
          ]
        }
      ]
    }
  ]
}