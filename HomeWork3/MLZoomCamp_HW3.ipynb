{
  "nbformat": 4,
  "nbformat_minor": 0,
  "metadata": {
    "colab": {
      "provenance": []
    },
    "kernelspec": {
      "name": "python3",
      "display_name": "Python 3"
    },
    "language_info": {
      "name": "python"
    }
  },
  "cells": [
    {
      "cell_type": "code",
      "execution_count": 1,
      "metadata": {
        "id": "JxSOruiv_-AM"
      },
      "outputs": [],
      "source": [
        "import pandas as pd\n",
        "import numpy as np\n",
        "\n",
        "from sklearn.model_selection import train_test_split\n",
        "from sklearn.preprocessing import OneHotEncoder\n",
        "from sklearn.linear_model import LogisticRegression\n",
        "from sklearn.metrics import accuracy_score\n",
        "from sklearn.metrics import mutual_info_score"
      ]
    },
    {
      "cell_type": "code",
      "source": [
        "!wget https://raw.githubusercontent.com/alexeygrigorev/datasets/master/course_lead_scoring.csv"
      ],
      "metadata": {
        "colab": {
          "base_uri": "https://localhost:8080/"
        },
        "id": "3VngJWnFAGyc",
        "outputId": "fc7bbc68-ca43-40e2-9055-939d489cef48"
      },
      "execution_count": 2,
      "outputs": [
        {
          "output_type": "stream",
          "name": "stdout",
          "text": [
            "--2025-10-12 19:58:35--  https://raw.githubusercontent.com/alexeygrigorev/datasets/master/course_lead_scoring.csv\n",
            "Resolving raw.githubusercontent.com (raw.githubusercontent.com)... 185.199.108.133, 185.199.109.133, 185.199.110.133, ...\n",
            "Connecting to raw.githubusercontent.com (raw.githubusercontent.com)|185.199.108.133|:443... connected.\n",
            "HTTP request sent, awaiting response... 200 OK\n",
            "Length: 80876 (79K) [text/plain]\n",
            "Saving to: ‘course_lead_scoring.csv’\n",
            "\n",
            "\rcourse_lead_scoring   0%[                    ]       0  --.-KB/s               \rcourse_lead_scoring 100%[===================>]  78.98K  --.-KB/s    in 0.02s   \n",
            "\n",
            "2025-10-12 19:58:35 (4.89 MB/s) - ‘course_lead_scoring.csv’ saved [80876/80876]\n",
            "\n"
          ]
        }
      ]
    },
    {
      "cell_type": "code",
      "source": [
        "df = pd.read_csv(\"course_lead_scoring.csv\")\n",
        "\n",
        "target_col = \"converted\"\n",
        "assert target_col in df.columns, f\"Expected target column '{target_col}' not found.\"\n",
        "\n",
        "# Identify numeric & categorical features (exclude target)\n",
        "feature_cols = [c for c in df.columns if c != target_col]\n",
        "num_cols = df[feature_cols].select_dtypes(include=[np.number]).columns.tolist()\n",
        "cat_cols = [c for c in feature_cols if c not in num_cols]\n",
        "\n",
        "# Impute missing values\n",
        "#   - Categorical: 'NA'\n",
        "#   - Numerical: 0.0\n",
        "\n",
        "df[cat_cols] = df[cat_cols].fillna('NA').replace('', 'NA')\n",
        "df[num_cols] = df[num_cols].fillna(0.0)"
      ],
      "metadata": {
        "id": "qSue2irKAFqD"
      },
      "execution_count": 4,
      "outputs": []
    },
    {
      "cell_type": "code",
      "source": [
        "# Q1: Most frequent observation (mode) for column 'industry'\n",
        "\n",
        "mode_industry = df['industry'].mode(dropna=False).iloc[0]\n",
        "print(\"Q1 — Mode of 'industry':\", mode_industry)"
      ],
      "metadata": {
        "colab": {
          "base_uri": "https://localhost:8080/"
        },
        "id": "GAw0QJktAOMo",
        "outputId": "06d3150f-d9e5-4729-c928-749dde0a17b9"
      },
      "execution_count": 5,
      "outputs": [
        {
          "output_type": "stream",
          "name": "stdout",
          "text": [
            "Q1 — Mode of 'industry': retail\n"
          ]
        }
      ]
    },
    {
      "cell_type": "code",
      "source": [
        "# Q2: Correlation matrix on numerical features\n",
        "\n",
        "pairs_q2 = [\n",
        "    (\"interaction_count\", \"lead_score\"),\n",
        "    (\"number_of_courses_viewed\", \"lead_score\"),\n",
        "    (\"number_of_courses_viewed\", \"interaction_count\"),\n",
        "    (\"annual_income\", \"interaction_count\"),\n",
        "]\n",
        "# -----------------------------\n",
        "corr = df[num_cols].corr(numeric_only=True)\n",
        "\n",
        "pair_corrs = {}\n",
        "for a, b in pairs_q2:\n",
        "    if a in corr.index and b in corr.columns:\n",
        "        pair_corrs[(a, b)] = abs(corr.loc[a, b])\n",
        "    else:\n",
        "        pair_corrs[(a, b)] = -np.inf  # if missing, mark as invalid\n",
        "\n",
        "best_pair = max(pair_corrs, key=pair_corrs.get)\n",
        "print(\"Q2 — Largest correlation pair among options:\", best_pair, \"with corr:\", pair_corrs[best_pair])"
      ],
      "metadata": {
        "colab": {
          "base_uri": "https://localhost:8080/"
        },
        "id": "o0uP6YSNBx4F",
        "outputId": "dca14280-0044-463f-9664-9d7e4fd40eec"
      },
      "execution_count": 6,
      "outputs": [
        {
          "output_type": "stream",
          "name": "stdout",
          "text": [
            "Q2 — Largest correlation pair among options: ('annual_income', 'interaction_count') with corr: 0.02703647240481443\n"
          ]
        }
      ]
    },
    {
      "cell_type": "code",
      "source": [
        "# Split data: 60/20/20 with seed=42\n",
        "X = df[feature_cols].copy()\n",
        "y = df[target_col].astype(int).values  # ensure numeric labels\n",
        "\n",
        "# First split: train_val (80%) / test (20%)\n",
        "X_train_val, X_test, y_train_val, y_test = train_test_split(\n",
        "    X, y, test_size=0.20, random_state=42, stratify=y\n",
        ")\n",
        "\n",
        "# Second split: from train_val, split validation\n",
        "X_train, X_val, y_train, y_val = train_test_split(\n",
        "    X_train_val, y_train_val, test_size=0.25, random_state=42, stratify=y_train_val\n",
        ")\n",
        "\n",
        "\n",
        "# Q3: Mutual information between y and each categorical variable (training only)\n",
        "cat_candidates = [\"industry\", \"location\", \"lead_source\", \"employment_status\"]\n",
        "mi_scores = {}\n",
        "for col in cat_candidates:\n",
        "    if col not in X_train.columns:\n",
        "        mi_scores[col] = -np.inf\n",
        "        continue\n",
        "    # Work only on training set\n",
        "    f = X_train[col].astype(str).fillna('NA')  # safety\n",
        "    mi_scores[col] = round(mutual_info_score(y_train, f), 2)\n",
        "\n",
        "print(\"Q3 — Mutual information (train only):\", mi_scores)\n",
        "best_mi_var = max(mi_scores, key=mi_scores.get)\n",
        "print(\"Q3 — Highest MI variable:\", best_mi_var)"
      ],
      "metadata": {
        "colab": {
          "base_uri": "https://localhost:8080/"
        },
        "id": "Ig9Aa047CJG7",
        "outputId": "d2d7bf36-6e7f-4775-fe9e-e72cc68f8264"
      },
      "execution_count": 7,
      "outputs": [
        {
          "output_type": "stream",
          "name": "stdout",
          "text": [
            "Q3 — Mutual information (train only): {'industry': np.float64(0.01), 'location': np.float64(0.0), 'lead_source': np.float64(0.03), 'employment_status': np.float64(0.01)}\n",
            "Q3 — Highest MI variable: lead_source\n"
          ]
        }
      ]
    },
    {
      "cell_type": "code",
      "source": [
        "# one-hot encode categoricals\n",
        "\n",
        "ohe = OneHotEncoder(handle_unknown='ignore', sparse_output=False)\n",
        "\n",
        "def prepare_X_matrix(df_part):\n",
        "    # Impute again defensively (important if we subset)\n",
        "    part = df_part.copy()\n",
        "    part[cat_cols] = part[cat_cols].fillna('NA').replace('', 'NA')\n",
        "    part[num_cols] = part[num_cols].fillna(0.0)\n",
        "\n",
        "    # One-hot encode categoricals\n",
        "    X_cat = ohe.transform(part[cat_cols]) if hasattr(ohe, \"categories_\") else None\n",
        "    X_num = part[num_cols].values\n",
        "\n",
        "    if X_cat is None:\n",
        "        return X_num\n",
        "    else:\n",
        "        return np.hstack([X_num, X_cat])\n",
        "\n",
        "# Fit OHE on training categoricals only\n",
        "ohe.fit(X_train[cat_cols])\n",
        "\n",
        "Xtr = prepare_X_matrix(X_train)\n",
        "Xva = prepare_X_matrix(X_val)\n",
        "Xte = prepare_X_matrix(X_test)\n",
        "\n",
        "\n",
        "# Q4: Train LogisticRegression with given params, report val accuracy (2 decimals)\n",
        "logreg = LogisticRegression(solver='liblinear', C=1.0, max_iter=1000, random_state=42)\n",
        "logreg.fit(Xtr, y_train)\n",
        "val_pred = logreg.predict(Xva)\n",
        "val_acc = round(accuracy_score(y_val, val_pred), 2)\n",
        "print(\"Q4 — Validation accuracy:\", val_acc)"
      ],
      "metadata": {
        "colab": {
          "base_uri": "https://localhost:8080/"
        },
        "id": "Ro2bGjSvCOle",
        "outputId": "dddc689a-4035-4093-ba1c-42e63fef334f"
      },
      "execution_count": 9,
      "outputs": [
        {
          "output_type": "stream",
          "name": "stdout",
          "text": [
            "Q4 — Validation accuracy: 0.73\n"
          ]
        }
      ]
    },
    {
      "cell_type": "code",
      "source": [
        "\n",
        "# Q5: Least useful feature via leave-one-feature-out\n",
        "loo_features = ['industry', 'employment_status', 'lead_score']\n",
        "\n",
        "# Baseline (no rounding)\n",
        "baseline_acc = accuracy_score(y_val, logreg.predict(Xva))\n",
        "\n",
        "def fit_acc_without(feature_to_drop):\n",
        "    # Drop the feature from raw frames *before* OHE/stacking\n",
        "    cols_keep = [c for c in feature_cols if c != feature_to_drop]\n",
        "    # Fit a new OHE on train with remaining categoricals\n",
        "    rem_cat = [c for c in cat_cols if c in cols_keep]\n",
        "    rem_num = [c for c in num_cols if c in cols_keep]\n",
        "\n",
        "    ohe2 = OneHotEncoder(handle_unknown='ignore', sparse_output=False)\n",
        "    ohe2.fit(X_train[rem_cat])\n",
        "\n",
        "    def build(dfp):\n",
        "        d = dfp[cols_keep].copy()\n",
        "        d[rem_cat] = d[rem_cat].fillna('NA').replace('', 'NA')\n",
        "        d[rem_num] = d[rem_num].fillna(0.0)\n",
        "        Xc = ohe2.transform(d[rem_cat]) if rem_cat else None\n",
        "        Xn = d[rem_num].values if rem_num else None\n",
        "        if Xc is None: return Xn\n",
        "        if Xn is None: return Xc\n",
        "        return np.hstack([Xn, Xc])\n",
        "\n",
        "    Xtr2 = build(X_train)\n",
        "    Xva2 = build(X_val)\n",
        "\n",
        "    m = LogisticRegression(solver='liblinear', C=1.0, max_iter=1000, random_state=42)\n",
        "    m.fit(Xtr2, y_train)\n",
        "    return accuracy_score(y_val, m.predict(Xva2))\n",
        "\n",
        "diffs = {}\n",
        "for f in loo_features:\n",
        "    acc_wo = fit_acc_without(f)\n",
        "    diffs[f] = baseline_acc - acc_wo  # can be negative\n",
        "print(\"Q5 — Accuracy drop (baseline - without feature):\", diffs)\n",
        "min_drop_feature = min(diffs, key=diffs.get)\n",
        "print(\"Q5 — Least useful (smallest difference):\", min_drop_feature)"
      ],
      "metadata": {
        "colab": {
          "base_uri": "https://localhost:8080/"
        },
        "id": "RvPPi1ZnCfas",
        "outputId": "932d4db0-59cc-4e50-9d01-b621d64c72cd"
      },
      "execution_count": 11,
      "outputs": [
        {
          "output_type": "stream",
          "name": "stdout",
          "text": [
            "Q5 — Accuracy drop (baseline - without feature): {'industry': 0.0, 'employment_status': -0.0034129692832765013, 'lead_score': 0.0}\n",
            "Q5 — Least useful (smallest difference): employment_status\n"
          ]
        }
      ]
    },
    {
      "cell_type": "code",
      "source": [
        "# Q6: Regularized Logistic Regression; C in [0.01, 0.1, 1, 10, 100]\n",
        "C_list = [0.01, 0.1, 1, 10, 100]\n",
        "acc_by_C = {}\n",
        "for C in C_list:\n",
        "    mdl = LogisticRegression(solver='liblinear', C=C, max_iter=1000, random_state=42)\n",
        "    mdl.fit(Xtr, y_train)\n",
        "    acc_by_C[C] = round(accuracy_score(y_val, mdl.predict(Xva)), 3)\n",
        "\n",
        "print(\"Q6 — Validation accuracy by C:\", acc_by_C)\n",
        "best_acc = max(acc_by_C.values())\n",
        "best_Cs = [C for C, a in acc_by_C.items() if a == best_acc]\n",
        "best_C = min(best_Cs)\n",
        "print(\"Q6 — Best C:\", best_C, \"with val acc:\", best_acc)\n"
      ],
      "metadata": {
        "colab": {
          "base_uri": "https://localhost:8080/"
        },
        "id": "9Nma21L3C1Tm",
        "outputId": "aeb7a882-278b-4120-dfdf-5a325f8fcd42"
      },
      "execution_count": 12,
      "outputs": [
        {
          "output_type": "stream",
          "name": "stdout",
          "text": [
            "Q6 — Validation accuracy by C: {0.01: 0.734, 0.1: 0.73, 1: 0.73, 10: 0.73, 100: 0.73}\n",
            "Q6 — Best C: 0.01 with val acc: 0.734\n"
          ]
        }
      ]
    }
  ]
}